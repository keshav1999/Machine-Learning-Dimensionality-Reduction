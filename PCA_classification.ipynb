{
 "cells": [
  {
   "cell_type": "code",
   "execution_count": 1,
   "metadata": {},
   "outputs": [
    {
     "name": "stderr",
     "output_type": "stream",
     "text": [
      "/usr/local/lib/python2.7/dist-packages/h5py/__init__.py:36: FutureWarning: Conversion of the second argument of issubdtype from `float` to `np.floating` is deprecated. In future, it will be treated as `np.float64 == np.dtype(float).type`.\n",
      "  from ._conv import register_converters as _register_converters\n",
      "Using TensorFlow backend.\n"
     ]
    }
   ],
   "source": [
    "import pandas as pd\n",
    "import numpy as np\n",
    "import matplotlib.pyplot as plt\n",
    "\n",
    "from keras.models import Sequential\n",
    "from keras.layers import Dense,Activation\n",
    "from sklearn.decomposition import PCA\n",
    "from keras.utils import np_utils"
   ]
  },
  {
   "cell_type": "code",
   "execution_count": 2,
   "metadata": {},
   "outputs": [
    {
     "name": "stdout",
     "output_type": "stream",
     "text": [
      "(42000, 784) (42000,)\n"
     ]
    }
   ],
   "source": [
    "x = pd.read_csv(\"MNIST.csv\")\n",
    "X_ = np.array(x)\n",
    "\n",
    "X = X_[:,1:]\n",
    "X = X/255.0\n",
    "y = X_[:,0]\n",
    "\n",
    "print X.shape,y.shape"
   ]
  },
  {
   "cell_type": "code",
   "execution_count": 3,
   "metadata": {},
   "outputs": [
    {
     "name": "stdout",
     "output_type": "stream",
     "text": [
      "(42000, 64) (42000, 10)\n"
     ]
    }
   ],
   "source": [
    "pca = PCA(n_components=64)\n",
    "\n",
    "X_train = pca.fit_transform(X)\n",
    "Y_train = np_utils.to_categorical(y)\n",
    "\n",
    "print X_train.shape,Y_train.shape"
   ]
  },
  {
   "cell_type": "code",
   "execution_count": 4,
   "metadata": {},
   "outputs": [
    {
     "name": "stdout",
     "output_type": "stream",
     "text": [
      "_________________________________________________________________\n",
      "Layer (type)                 Output Shape              Param #   \n",
      "=================================================================\n",
      "dense_1 (Dense)              (None, 16)                1040      \n",
      "_________________________________________________________________\n",
      "activation_1 (Activation)    (None, 16)                0         \n",
      "_________________________________________________________________\n",
      "dense_2 (Dense)              (None, 10)                170       \n",
      "_________________________________________________________________\n",
      "activation_2 (Activation)    (None, 10)                0         \n",
      "=================================================================\n",
      "Total params: 1,210\n",
      "Trainable params: 1,210\n",
      "Non-trainable params: 0\n",
      "_________________________________________________________________\n"
     ]
    }
   ],
   "source": [
    "model = Sequential()\n",
    "model.add(Dense(16, input_shape=(64,)))\n",
    "model.add(Activation('relu'))\n",
    "\n",
    "model.add(Dense(10))\n",
    "model.add(Activation('softmax'))\n",
    "\n",
    "model.summary()"
   ]
  },
  {
   "cell_type": "code",
   "execution_count": 5,
   "metadata": {},
   "outputs": [],
   "source": [
    "model.compile(loss='categorical_crossentropy',optimizer='adam',metrics=['accuracy'])"
   ]
  },
  {
   "cell_type": "code",
   "execution_count": 6,
   "metadata": {},
   "outputs": [
    {
     "name": "stdout",
     "output_type": "stream",
     "text": [
      "Train on 33600 samples, validate on 8400 samples\n",
      "Epoch 1/20\n",
      "33600/33600 [==============================] - 2s 54us/step - loss: 1.9576 - acc: 0.3378 - val_loss: 1.4308 - val_acc: 0.6286\n",
      "Epoch 2/20\n",
      "33600/33600 [==============================] - 1s 28us/step - loss: 1.1048 - acc: 0.7271 - val_loss: 0.8229 - val_acc: 0.7930\n",
      "Epoch 3/20\n",
      "33600/33600 [==============================] - 1s 30us/step - loss: 0.6789 - acc: 0.8274 - val_loss: 0.5573 - val_acc: 0.8524\n",
      "Epoch 4/20\n",
      "33600/33600 [==============================] - 1s 37us/step - loss: 0.4965 - acc: 0.8673 - val_loss: 0.4374 - val_acc: 0.8825\n",
      "Epoch 5/20\n",
      "33600/33600 [==============================] - 2s 45us/step - loss: 0.4080 - acc: 0.8870 - val_loss: 0.3740 - val_acc: 0.8962\n",
      "Epoch 6/20\n",
      "33600/33600 [==============================] - 1s 35us/step - loss: 0.3577 - acc: 0.8997 - val_loss: 0.3367 - val_acc: 0.9038\n",
      "Epoch 7/20\n",
      "33600/33600 [==============================] - 1s 29us/step - loss: 0.3256 - acc: 0.9075 - val_loss: 0.3121 - val_acc: 0.9101\n",
      "Epoch 8/20\n",
      "33600/33600 [==============================] - 1s 32us/step - loss: 0.3029 - acc: 0.9138 - val_loss: 0.2937 - val_acc: 0.9145\n",
      "Epoch 9/20\n",
      "33600/33600 [==============================] - 1s 31us/step - loss: 0.2861 - acc: 0.9177 - val_loss: 0.2803 - val_acc: 0.9173\n",
      "Epoch 10/20\n",
      "33600/33600 [==============================] - 1s 32us/step - loss: 0.2725 - acc: 0.9213 - val_loss: 0.2695 - val_acc: 0.9212\n",
      "Epoch 11/20\n",
      "33600/33600 [==============================] - 1s 41us/step - loss: 0.2614 - acc: 0.9249 - val_loss: 0.2606 - val_acc: 0.9239\n",
      "Epoch 12/20\n",
      "33600/33600 [==============================] - 2s 59us/step - loss: 0.2522 - acc: 0.9271 - val_loss: 0.2531 - val_acc: 0.9264\n",
      "Epoch 13/20\n",
      "33600/33600 [==============================] - 1s 22us/step - loss: 0.2442 - acc: 0.9296 - val_loss: 0.2465 - val_acc: 0.9288\n",
      "Epoch 14/20\n",
      "33600/33600 [==============================] - 1s 22us/step - loss: 0.2371 - acc: 0.9309 - val_loss: 0.2415 - val_acc: 0.9305\n",
      "Epoch 15/20\n",
      "33600/33600 [==============================] - 1s 16us/step - loss: 0.2310 - acc: 0.9327 - val_loss: 0.2367 - val_acc: 0.9310\n",
      "Epoch 16/20\n",
      "33600/33600 [==============================] - 1s 33us/step - loss: 0.2259 - acc: 0.9348 - val_loss: 0.2327 - val_acc: 0.9324\n",
      "Epoch 17/20\n",
      "33600/33600 [==============================] - 1s 25us/step - loss: 0.2210 - acc: 0.9354 - val_loss: 0.2289 - val_acc: 0.9346\n",
      "Epoch 18/20\n",
      "33600/33600 [==============================] - 2s 45us/step - loss: 0.2166 - acc: 0.9369 - val_loss: 0.2251 - val_acc: 0.9355\n",
      "Epoch 19/20\n",
      "33600/33600 [==============================] - 1s 36us/step - loss: 0.2127 - acc: 0.9382 - val_loss: 0.2218 - val_acc: 0.9360\n",
      "Epoch 20/20\n",
      "33600/33600 [==============================] - 1s 37us/step - loss: 0.2091 - acc: 0.9386 - val_loss: 0.2195 - val_acc: 0.9358\n"
     ]
    }
   ],
   "source": [
    "hist = model.fit(X_train,Y_train,\n",
    "                 epochs = 20,\n",
    "                 shuffle=True,\n",
    "                 batch_size=256,\n",
    "                 validation_split=0.20)"
   ]
  },
  {
   "cell_type": "code",
   "execution_count": 7,
   "metadata": {},
   "outputs": [
    {
     "data": {
      "image/png": "[encoded data removed]",
      "text/plain": [
       "<Figure size 432x288 with 1 Axes>"
      ]
     },
     "metadata": {},
     "output_type": "display_data"
    }
   ],
   "source": [
    "plt.figure(0)\n",
    "plt.plot(hist.history['val_acc'],'g')\n",
    "plt.plot(hist.history['val_loss'],'b')\n",
    "plt.show()"
   ]
  }
 ],
 "metadata": {
  "kernelspec": {
   "display_name": "Python 3",
   "language": "python",
   "name": "python3"
  },
  "language_info": {
   "codemirror_mode": {
    "name": "ipython",
    "version": 2
   },
   "file_extension": ".py",
   "mimetype": "text/x-python",
   "name": "python",
   "nbconvert_exporter": "python",
   "pygments_lexer": "ipython2",
   "version": "2.7.12"
  }
 },
 "nbformat": 4,
 "nbformat_minor": 2
}
