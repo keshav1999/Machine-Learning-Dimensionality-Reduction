{
 "cells": [
  {
   "cell_type": "code",
   "execution_count": 1,
   "metadata": {},
   "outputs": [],
   "source": [
    "import pandas as pd\n",
    "import numpy as np\n",
    "import matplotlib.pyplot as plt\n",
    "\n",
    "from keras.models import Sequential,load_model\n",
    "from keras.layers import Dense,Activation\n",
    "from sklearn.decomposition import PCA\n",
    "from keras.utils import np_utils"
   ]
  },
  {
   "cell_type": "code",
   "execution_count": 2,
   "metadata": {},
   "outputs": [
    {
     "name": "stdout",
     "output_type": "stream",
     "text": [
      "(42000, 784) (42000,)\n"
     ]
    }
   ],
   "source": [
    "x = pd.read_csv(\"MNIST.csv\")\n",
    "X_ = np.array(x)\n",
    "\n",
    "X = X_[:,1:]\n",
    "X = X/255.0\n",
    "y = X_[:,0]\n",
    "\n",
    "print X.shape,y.shape"
   ]
  },
  {
   "cell_type": "code",
   "execution_count": 3,
   "metadata": {},
   "outputs": [
    {
     "name": "stdout",
     "output_type": "stream",
     "text": [
      "(42000, 28, 28, 1)\n"
     ]
    }
   ],
   "source": [
    "X = X.reshape((X.shape[0],28,28,1))\n",
    "print X.shape"
   ]
  },
  {
   "cell_type": "code",
   "execution_count": 4,
   "metadata": {},
   "outputs": [
    {
     "name": "stdout",
     "output_type": "stream",
     "text": [
      "_________________________________________________________________\n",
      "Layer (type)                 Output Shape              Param #   \n",
      "=================================================================\n",
      "input_3 (InputLayer)         (None, 28, 28, 1)         0         \n",
      "_________________________________________________________________\n",
      "conv2d_10 (Conv2D)           (None, 26, 26, 32)        320       \n",
      "_________________________________________________________________\n",
      "conv2d_11 (Conv2D)           (None, 24, 24, 16)        4624      \n",
      "_________________________________________________________________\n",
      "max_pooling2d_3 (MaxPooling2 (None, 12, 12, 16)        0         \n",
      "_________________________________________________________________\n",
      "conv2d_12 (Conv2D)           (None, 12, 12, 8)         1160      \n",
      "_________________________________________________________________\n",
      "flatten_3 (Flatten)          (None, 1152)              0         \n",
      "_________________________________________________________________\n",
      "dense_5 (Dense)              (None, 64)                73792     \n",
      "=================================================================\n",
      "Total params: 79,896\n",
      "Trainable params: 79,896\n",
      "Non-trainable params: 0\n",
      "_________________________________________________________________\n"
     ]
    },
    {
     "name": "stderr",
     "output_type": "stream",
     "text": [
      "/usr/local/lib/python2.7/dist-packages/keras/models.py:255: UserWarning: No training configuration found in save file: the model was *not* compiled. Compile it manually.\n",
      "  warnings.warn('No training configuration found in save file: '\n"
     ]
    }
   ],
   "source": [
    "encoder = load_model('enc_64d.h5')\n",
    "encoder.summary()"
   ]
  },
  {
   "cell_type": "code",
   "execution_count": 6,
   "metadata": {},
   "outputs": [
    {
     "name": "stdout",
     "output_type": "stream",
     "text": [
      "(42000, 64) (42000, 10)\n"
     ]
    }
   ],
   "source": [
    "X_train = encoder.predict(X)\n",
    "Y_train = np_utils.to_categorical(y)\n",
    "print X_train.shape,Y_train.shape"
   ]
  },
  {
   "cell_type": "code",
   "execution_count": 7,
   "metadata": {},
   "outputs": [
    {
     "name": "stdout",
     "output_type": "stream",
     "text": [
      "_________________________________________________________________\n",
      "Layer (type)                 Output Shape              Param #   \n",
      "=================================================================\n",
      "dense_1 (Dense)              (None, 16)                1040      \n",
      "_________________________________________________________________\n",
      "activation_1 (Activation)    (None, 16)                0         \n",
      "_________________________________________________________________\n",
      "dense_2 (Dense)              (None, 10)                170       \n",
      "_________________________________________________________________\n",
      "activation_2 (Activation)    (None, 10)                0         \n",
      "=================================================================\n",
      "Total params: 1,210\n",
      "Trainable params: 1,210\n",
      "Non-trainable params: 0\n",
      "_________________________________________________________________\n"
     ]
    }
   ],
   "source": [
    "model = Sequential()\n",
    "model.add(Dense(16, input_shape=(64,)))\n",
    "model.add(Activation('relu'))\n",
    "\n",
    "model.add(Dense(10))\n",
    "model.add(Activation('softmax'))\n",
    "\n",
    "model.summary()"
   ]
  },
  {
   "cell_type": "code",
   "execution_count": 8,
   "metadata": {},
   "outputs": [],
   "source": [
    "model.compile(loss='categorical_crossentropy',optimizer='adam',metrics=['accuracy'])"
   ]
  },
  {
   "cell_type": "code",
   "execution_count": 9,
   "metadata": {},
   "outputs": [
    {
     "name": "stdout",
     "output_type": "stream",
     "text": [
      "Train on 33600 samples, validate on 8400 samples\n",
      "Epoch 1/20\n",
      "33600/33600 [==============================] - 2s 57us/step - loss: 1.9694 - acc: 0.3267 - val_loss: 1.5095 - val_acc: 0.5929\n",
      "Epoch 2/20\n",
      "33600/33600 [==============================] - 1s 39us/step - loss: 1.2289 - acc: 0.6973 - val_loss: 0.9629 - val_acc: 0.7831\n",
      "Epoch 3/20\n",
      "33600/33600 [==============================] - 1s 40us/step - loss: 0.8204 - acc: 0.8092 - val_loss: 0.6763 - val_acc: 0.8393\n",
      "Epoch 4/20\n",
      "33600/33600 [==============================] - 1s 41us/step - loss: 0.6134 - acc: 0.8492 - val_loss: 0.5355 - val_acc: 0.8680\n",
      "Epoch 5/20\n",
      "33600/33600 [==============================] - 1s 19us/step - loss: 0.5077 - acc: 0.8677 - val_loss: 0.4596 - val_acc: 0.8814\n",
      "Epoch 6/20\n",
      "33600/33600 [==============================] - 1s 22us/step - loss: 0.4476 - acc: 0.8805 - val_loss: 0.4167 - val_acc: 0.8882\n",
      "Epoch 7/20\n",
      "33600/33600 [==============================] - 1s 22us/step - loss: 0.4104 - acc: 0.8877 - val_loss: 0.3852 - val_acc: 0.8954\n",
      "Epoch 8/20\n",
      "33600/33600 [==============================] - 1s 26us/step - loss: 0.3847 - acc: 0.8925 - val_loss: 0.3612 - val_acc: 0.8996\n",
      "Epoch 9/20\n",
      "33600/33600 [==============================] - 1s 21us/step - loss: 0.3665 - acc: 0.8953 - val_loss: 0.3496 - val_acc: 0.9010\n",
      "Epoch 10/20\n",
      "33600/33600 [==============================] - 1s 40us/step - loss: 0.3524 - acc: 0.8989 - val_loss: 0.3343 - val_acc: 0.9058\n",
      "Epoch 11/20\n",
      "33600/33600 [==============================] - 1s 36us/step - loss: 0.3429 - acc: 0.9019 - val_loss: 0.3245 - val_acc: 0.9075\n",
      "Epoch 12/20\n",
      "33600/33600 [==============================] - 1s 36us/step - loss: 0.3340 - acc: 0.9036 - val_loss: 0.3196 - val_acc: 0.9093\n",
      "Epoch 13/20\n",
      "33600/33600 [==============================] - ETA: 0s - loss: 0.3267 - acc: 0.904 - 1s 30us/step - loss: 0.3263 - acc: 0.9048 - val_loss: 0.3156 - val_acc: 0.9085\n",
      "Epoch 14/20\n",
      "33600/33600 [==============================] - 1s 32us/step - loss: 0.3209 - acc: 0.9074 - val_loss: 0.3090 - val_acc: 0.9117\n",
      "Epoch 15/20\n",
      "33600/33600 [==============================] - 1s 35us/step - loss: 0.3158 - acc: 0.9083 - val_loss: 0.3041 - val_acc: 0.9110\n",
      "Epoch 16/20\n",
      "33600/33600 [==============================] - 1s 31us/step - loss: 0.3120 - acc: 0.9090 - val_loss: 0.2994 - val_acc: 0.9127\n",
      "Epoch 17/20\n",
      "33600/33600 [==============================] - 1s 31us/step - loss: 0.3087 - acc: 0.9097 - val_loss: 0.2963 - val_acc: 0.9140\n",
      "Epoch 18/20\n",
      "33600/33600 [==============================] - 1s 33us/step - loss: 0.3060 - acc: 0.9098 - val_loss: 0.2938 - val_acc: 0.9145\n",
      "Epoch 19/20\n",
      "33600/33600 [==============================] - 1s 36us/step - loss: 0.3031 - acc: 0.9114 - val_loss: 0.2962 - val_acc: 0.9100\n",
      "Epoch 20/20\n",
      "33600/33600 [==============================] - 1s 28us/step - loss: 0.3009 - acc: 0.9126 - val_loss: 0.2897 - val_acc: 0.9142\n"
     ]
    }
   ],
   "source": [
    "hist = model.fit(X_train,Y_train,\n",
    "                 epochs = 20,\n",
    "                 shuffle=True,\n",
    "                 batch_size=256,\n",
    "                 validation_split=0.20)"
   ]
  },
  {
   "cell_type": "code",
   "execution_count": 10,
   "metadata": {},
   "outputs": [
    {
     "data": {
      "image/png": "[encoded data removed]",
      "text/plain": [
       "<Figure size 432x288 with 1 Axes>"
      ]
     },
     "metadata": {},
     "output_type": "display_data"
    }
   ],
   "source": [
    "plt.figure(0)\n",
    "plt.plot(hist.history['val_acc'],'g')\n",
    "plt.plot(hist.history['val_loss'],'b')\n",
    "plt.show()"
   ]
  }
 ],
 "metadata": {
  "kernelspec": {
   "display_name": "Python 3",
   "language": "python",
   "name": "python3"
  },
  "language_info": {
   "codemirror_mode": {
    "name": "ipython",
    "version": 3
   },
   "file_extension": ".py",
   "mimetype": "text/x-python",
   "name": "python",
   "nbconvert_exporter": "python",
   "pygments_lexer": "ipython3",
   "version": "3.5.2+"
  }
 },
 "nbformat": 4,
 "nbformat_minor": 2
}
